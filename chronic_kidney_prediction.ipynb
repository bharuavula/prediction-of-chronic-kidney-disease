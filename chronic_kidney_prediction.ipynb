{
 "cells": [
  {
   "cell_type": "markdown",
   "id": "aab85f3f",
   "metadata": {},
   "source": [
    "# importing libraries"
   ]
  },
  {
   "cell_type": "code",
   "execution_count": 1,
   "id": "ed1786e2",
   "metadata": {},
   "outputs": [],
   "source": [
    "import pandas as pd \n",
    "import numpy as np\n",
    "import matplotlib.pyplot as plt\n",
    "import seaborn as sns\n",
    "#import missingno as msn\n",
    "from collections import Counter as c\n",
    "from sklearn.metrics import accuracy_score,confusion_matrix\n",
    "from sklearn.model_selection import train_test_split\n",
    "from sklearn.preprocessing import LabelEncoder\n",
    "from sklearn.linear_model import LogisticRegression\n",
    "\n",
    "import pickle"
   ]
  },
  {
   "cell_type": "markdown",
   "id": "6a6f2062",
   "metadata": {},
   "source": [
    "# Read The Dataset"
   ]
  },
  {
   "cell_type": "code",
   "execution_count": 2,
   "id": "2c93048e",
   "metadata": {},
   "outputs": [],
   "source": [
    "data = pd.read_csv('C:\\\\Users\\\\Dell\\\\Desktop\\\\machine leaning project\\\\ml files\\\\kidney_disease.csv')"
   ]
  },
  {
   "cell_type": "code",
   "execution_count": 3,
   "id": "1d31a4a7",
   "metadata": {},
   "outputs": [
    {
     "data": {
      "text/html": [
       "<div>\n",
       "<style scoped>\n",
       "    .dataframe tbody tr th:only-of-type {\n",
       "        vertical-align: middle;\n",
       "    }\n",
       "\n",
       "    .dataframe tbody tr th {\n",
       "        vertical-align: top;\n",
       "    }\n",
       "\n",
       "    .dataframe thead th {\n",
       "        text-align: right;\n",
       "    }\n",
       "</style>\n",
       "<table border=\"1\" class=\"dataframe\">\n",
       "  <thead>\n",
       "    <tr style=\"text-align: right;\">\n",
       "      <th></th>\n",
       "      <th>id</th>\n",
       "      <th>age</th>\n",
       "      <th>bp</th>\n",
       "      <th>sg</th>\n",
       "      <th>al</th>\n",
       "      <th>su</th>\n",
       "      <th>rbc</th>\n",
       "      <th>pc</th>\n",
       "      <th>pcc</th>\n",
       "      <th>ba</th>\n",
       "      <th>...</th>\n",
       "      <th>pcv</th>\n",
       "      <th>wc</th>\n",
       "      <th>rc</th>\n",
       "      <th>htn</th>\n",
       "      <th>dm</th>\n",
       "      <th>cad</th>\n",
       "      <th>appet</th>\n",
       "      <th>pe</th>\n",
       "      <th>ane</th>\n",
       "      <th>classification</th>\n",
       "    </tr>\n",
       "  </thead>\n",
       "  <tbody>\n",
       "    <tr>\n",
       "      <th>0</th>\n",
       "      <td>0</td>\n",
       "      <td>48.0</td>\n",
       "      <td>80.0</td>\n",
       "      <td>1.020</td>\n",
       "      <td>1.0</td>\n",
       "      <td>0.0</td>\n",
       "      <td>NaN</td>\n",
       "      <td>normal</td>\n",
       "      <td>notpresent</td>\n",
       "      <td>notpresent</td>\n",
       "      <td>...</td>\n",
       "      <td>44</td>\n",
       "      <td>7800</td>\n",
       "      <td>5.2</td>\n",
       "      <td>yes</td>\n",
       "      <td>yes</td>\n",
       "      <td>no</td>\n",
       "      <td>good</td>\n",
       "      <td>no</td>\n",
       "      <td>no</td>\n",
       "      <td>ckd</td>\n",
       "    </tr>\n",
       "    <tr>\n",
       "      <th>1</th>\n",
       "      <td>1</td>\n",
       "      <td>7.0</td>\n",
       "      <td>50.0</td>\n",
       "      <td>1.020</td>\n",
       "      <td>4.0</td>\n",
       "      <td>0.0</td>\n",
       "      <td>NaN</td>\n",
       "      <td>normal</td>\n",
       "      <td>notpresent</td>\n",
       "      <td>notpresent</td>\n",
       "      <td>...</td>\n",
       "      <td>38</td>\n",
       "      <td>6000</td>\n",
       "      <td>NaN</td>\n",
       "      <td>no</td>\n",
       "      <td>no</td>\n",
       "      <td>no</td>\n",
       "      <td>good</td>\n",
       "      <td>no</td>\n",
       "      <td>no</td>\n",
       "      <td>ckd</td>\n",
       "    </tr>\n",
       "    <tr>\n",
       "      <th>2</th>\n",
       "      <td>2</td>\n",
       "      <td>62.0</td>\n",
       "      <td>80.0</td>\n",
       "      <td>1.010</td>\n",
       "      <td>2.0</td>\n",
       "      <td>3.0</td>\n",
       "      <td>normal</td>\n",
       "      <td>normal</td>\n",
       "      <td>notpresent</td>\n",
       "      <td>notpresent</td>\n",
       "      <td>...</td>\n",
       "      <td>31</td>\n",
       "      <td>7500</td>\n",
       "      <td>NaN</td>\n",
       "      <td>no</td>\n",
       "      <td>yes</td>\n",
       "      <td>no</td>\n",
       "      <td>poor</td>\n",
       "      <td>no</td>\n",
       "      <td>yes</td>\n",
       "      <td>ckd</td>\n",
       "    </tr>\n",
       "    <tr>\n",
       "      <th>3</th>\n",
       "      <td>3</td>\n",
       "      <td>48.0</td>\n",
       "      <td>70.0</td>\n",
       "      <td>1.005</td>\n",
       "      <td>4.0</td>\n",
       "      <td>0.0</td>\n",
       "      <td>normal</td>\n",
       "      <td>abnormal</td>\n",
       "      <td>present</td>\n",
       "      <td>notpresent</td>\n",
       "      <td>...</td>\n",
       "      <td>32</td>\n",
       "      <td>6700</td>\n",
       "      <td>3.9</td>\n",
       "      <td>yes</td>\n",
       "      <td>no</td>\n",
       "      <td>no</td>\n",
       "      <td>poor</td>\n",
       "      <td>yes</td>\n",
       "      <td>yes</td>\n",
       "      <td>ckd</td>\n",
       "    </tr>\n",
       "    <tr>\n",
       "      <th>4</th>\n",
       "      <td>4</td>\n",
       "      <td>51.0</td>\n",
       "      <td>80.0</td>\n",
       "      <td>1.010</td>\n",
       "      <td>2.0</td>\n",
       "      <td>0.0</td>\n",
       "      <td>normal</td>\n",
       "      <td>normal</td>\n",
       "      <td>notpresent</td>\n",
       "      <td>notpresent</td>\n",
       "      <td>...</td>\n",
       "      <td>35</td>\n",
       "      <td>7300</td>\n",
       "      <td>4.6</td>\n",
       "      <td>no</td>\n",
       "      <td>no</td>\n",
       "      <td>no</td>\n",
       "      <td>good</td>\n",
       "      <td>no</td>\n",
       "      <td>no</td>\n",
       "      <td>ckd</td>\n",
       "    </tr>\n",
       "  </tbody>\n",
       "</table>\n",
       "<p>5 rows × 26 columns</p>\n",
       "</div>"
      ],
      "text/plain": [
       "   id   age    bp     sg   al   su     rbc        pc         pcc          ba  \\\n",
       "0   0  48.0  80.0  1.020  1.0  0.0     NaN    normal  notpresent  notpresent   \n",
       "1   1   7.0  50.0  1.020  4.0  0.0     NaN    normal  notpresent  notpresent   \n",
       "2   2  62.0  80.0  1.010  2.0  3.0  normal    normal  notpresent  notpresent   \n",
       "3   3  48.0  70.0  1.005  4.0  0.0  normal  abnormal     present  notpresent   \n",
       "4   4  51.0  80.0  1.010  2.0  0.0  normal    normal  notpresent  notpresent   \n",
       "\n",
       "   ...  pcv    wc   rc  htn   dm  cad appet   pe  ane classification  \n",
       "0  ...   44  7800  5.2  yes  yes   no  good   no   no            ckd  \n",
       "1  ...   38  6000  NaN   no   no   no  good   no   no            ckd  \n",
       "2  ...   31  7500  NaN   no  yes   no  poor   no  yes            ckd  \n",
       "3  ...   32  6700  3.9  yes   no   no  poor  yes  yes            ckd  \n",
       "4  ...   35  7300  4.6   no   no   no  good   no   no            ckd  \n",
       "\n",
       "[5 rows x 26 columns]"
      ]
     },
     "execution_count": 3,
     "metadata": {},
     "output_type": "execute_result"
    }
   ],
   "source": [
    "data.head()"
   ]
  },
  {
   "cell_type": "code",
   "execution_count": 4,
   "id": "dcb53c28",
   "metadata": {},
   "outputs": [
    {
     "data": {
      "text/html": [
       "<div>\n",
       "<style scoped>\n",
       "    .dataframe tbody tr th:only-of-type {\n",
       "        vertical-align: middle;\n",
       "    }\n",
       "\n",
       "    .dataframe tbody tr th {\n",
       "        vertical-align: top;\n",
       "    }\n",
       "\n",
       "    .dataframe thead th {\n",
       "        text-align: right;\n",
       "    }\n",
       "</style>\n",
       "<table border=\"1\" class=\"dataframe\">\n",
       "  <thead>\n",
       "    <tr style=\"text-align: right;\">\n",
       "      <th></th>\n",
       "      <th>id</th>\n",
       "      <th>age</th>\n",
       "      <th>bp</th>\n",
       "      <th>sg</th>\n",
       "      <th>al</th>\n",
       "      <th>su</th>\n",
       "      <th>rbc</th>\n",
       "      <th>pc</th>\n",
       "      <th>pcc</th>\n",
       "      <th>ba</th>\n",
       "      <th>...</th>\n",
       "      <th>pcv</th>\n",
       "      <th>wc</th>\n",
       "      <th>rc</th>\n",
       "      <th>htn</th>\n",
       "      <th>dm</th>\n",
       "      <th>cad</th>\n",
       "      <th>appet</th>\n",
       "      <th>pe</th>\n",
       "      <th>ane</th>\n",
       "      <th>classification</th>\n",
       "    </tr>\n",
       "  </thead>\n",
       "  <tbody>\n",
       "    <tr>\n",
       "      <th>395</th>\n",
       "      <td>395</td>\n",
       "      <td>55.0</td>\n",
       "      <td>80.0</td>\n",
       "      <td>1.020</td>\n",
       "      <td>0.0</td>\n",
       "      <td>0.0</td>\n",
       "      <td>normal</td>\n",
       "      <td>normal</td>\n",
       "      <td>notpresent</td>\n",
       "      <td>notpresent</td>\n",
       "      <td>...</td>\n",
       "      <td>47</td>\n",
       "      <td>6700</td>\n",
       "      <td>4.9</td>\n",
       "      <td>no</td>\n",
       "      <td>no</td>\n",
       "      <td>no</td>\n",
       "      <td>good</td>\n",
       "      <td>no</td>\n",
       "      <td>no</td>\n",
       "      <td>notckd</td>\n",
       "    </tr>\n",
       "    <tr>\n",
       "      <th>396</th>\n",
       "      <td>396</td>\n",
       "      <td>42.0</td>\n",
       "      <td>70.0</td>\n",
       "      <td>1.025</td>\n",
       "      <td>0.0</td>\n",
       "      <td>0.0</td>\n",
       "      <td>normal</td>\n",
       "      <td>normal</td>\n",
       "      <td>notpresent</td>\n",
       "      <td>notpresent</td>\n",
       "      <td>...</td>\n",
       "      <td>54</td>\n",
       "      <td>7800</td>\n",
       "      <td>6.2</td>\n",
       "      <td>no</td>\n",
       "      <td>no</td>\n",
       "      <td>no</td>\n",
       "      <td>good</td>\n",
       "      <td>no</td>\n",
       "      <td>no</td>\n",
       "      <td>notckd</td>\n",
       "    </tr>\n",
       "    <tr>\n",
       "      <th>397</th>\n",
       "      <td>397</td>\n",
       "      <td>12.0</td>\n",
       "      <td>80.0</td>\n",
       "      <td>1.020</td>\n",
       "      <td>0.0</td>\n",
       "      <td>0.0</td>\n",
       "      <td>normal</td>\n",
       "      <td>normal</td>\n",
       "      <td>notpresent</td>\n",
       "      <td>notpresent</td>\n",
       "      <td>...</td>\n",
       "      <td>49</td>\n",
       "      <td>6600</td>\n",
       "      <td>5.4</td>\n",
       "      <td>no</td>\n",
       "      <td>no</td>\n",
       "      <td>no</td>\n",
       "      <td>good</td>\n",
       "      <td>no</td>\n",
       "      <td>no</td>\n",
       "      <td>notckd</td>\n",
       "    </tr>\n",
       "    <tr>\n",
       "      <th>398</th>\n",
       "      <td>398</td>\n",
       "      <td>17.0</td>\n",
       "      <td>60.0</td>\n",
       "      <td>1.025</td>\n",
       "      <td>0.0</td>\n",
       "      <td>0.0</td>\n",
       "      <td>normal</td>\n",
       "      <td>normal</td>\n",
       "      <td>notpresent</td>\n",
       "      <td>notpresent</td>\n",
       "      <td>...</td>\n",
       "      <td>51</td>\n",
       "      <td>7200</td>\n",
       "      <td>5.9</td>\n",
       "      <td>no</td>\n",
       "      <td>no</td>\n",
       "      <td>no</td>\n",
       "      <td>good</td>\n",
       "      <td>no</td>\n",
       "      <td>no</td>\n",
       "      <td>notckd</td>\n",
       "    </tr>\n",
       "    <tr>\n",
       "      <th>399</th>\n",
       "      <td>399</td>\n",
       "      <td>58.0</td>\n",
       "      <td>80.0</td>\n",
       "      <td>1.025</td>\n",
       "      <td>0.0</td>\n",
       "      <td>0.0</td>\n",
       "      <td>normal</td>\n",
       "      <td>normal</td>\n",
       "      <td>notpresent</td>\n",
       "      <td>notpresent</td>\n",
       "      <td>...</td>\n",
       "      <td>53</td>\n",
       "      <td>6800</td>\n",
       "      <td>6.1</td>\n",
       "      <td>no</td>\n",
       "      <td>no</td>\n",
       "      <td>no</td>\n",
       "      <td>good</td>\n",
       "      <td>no</td>\n",
       "      <td>no</td>\n",
       "      <td>notckd</td>\n",
       "    </tr>\n",
       "  </tbody>\n",
       "</table>\n",
       "<p>5 rows × 26 columns</p>\n",
       "</div>"
      ],
      "text/plain": [
       "      id   age    bp     sg   al   su     rbc      pc         pcc          ba  \\\n",
       "395  395  55.0  80.0  1.020  0.0  0.0  normal  normal  notpresent  notpresent   \n",
       "396  396  42.0  70.0  1.025  0.0  0.0  normal  normal  notpresent  notpresent   \n",
       "397  397  12.0  80.0  1.020  0.0  0.0  normal  normal  notpresent  notpresent   \n",
       "398  398  17.0  60.0  1.025  0.0  0.0  normal  normal  notpresent  notpresent   \n",
       "399  399  58.0  80.0  1.025  0.0  0.0  normal  normal  notpresent  notpresent   \n",
       "\n",
       "     ...  pcv    wc   rc  htn  dm  cad appet  pe ane classification  \n",
       "395  ...   47  6700  4.9   no  no   no  good  no  no         notckd  \n",
       "396  ...   54  7800  6.2   no  no   no  good  no  no         notckd  \n",
       "397  ...   49  6600  5.4   no  no   no  good  no  no         notckd  \n",
       "398  ...   51  7200  5.9   no  no   no  good  no  no         notckd  \n",
       "399  ...   53  6800  6.1   no  no   no  good  no  no         notckd  \n",
       "\n",
       "[5 rows x 26 columns]"
      ]
     },
     "execution_count": 4,
     "metadata": {},
     "output_type": "execute_result"
    }
   ],
   "source": [
    "data.tail()"
   ]
  },
  {
   "cell_type": "code",
   "execution_count": 5,
   "id": "836251ae",
   "metadata": {},
   "outputs": [],
   "source": [
    "data.drop([\"id\"],axis=1,inplace=True)"
   ]
  },
  {
   "cell_type": "code",
   "execution_count": 6,
   "id": "40a6fe2c",
   "metadata": {},
   "outputs": [
    {
     "data": {
      "text/plain": [
       "Index(['age', 'bp', 'sg', 'al', 'su', 'rbc', 'pc', 'pcc', 'ba', 'bgr', 'bu',\n",
       "       'sc', 'sod', 'pot', 'hemo', 'pcv', 'wc', 'rc', 'htn', 'dm', 'cad',\n",
       "       'appet', 'pe', 'ane', 'classification'],\n",
       "      dtype='object')"
      ]
     },
     "execution_count": 6,
     "metadata": {},
     "output_type": "execute_result"
    }
   ],
   "source": [
    "data.columns"
   ]
  },
  {
   "cell_type": "code",
   "execution_count": 7,
   "id": "0e149eaf",
   "metadata": {},
   "outputs": [],
   "source": [
    "data.columns=[\"age\",\"blood_preesure\",\"specific_gravity\",\"albumin\",\"sugar\",\n",
    "              \"red_blood_cells\",\"pus_cell\",\"pus_cell_clumps\",\"bacteria\",\n",
    "              \"blood_glucose_random\",\"blood_urea\",\"serum_creatinine\",\n",
    "              \"sodium\",\"potassium\",\"haemoglobin\",\"packed_cell_volume\",\n",
    "              \"white_blood_cell_count\",\"red_blood_cell_count\",\"hypertension\",\n",
    "              \"diabetes_mellitus\",\"coronary_arterty_disease\",\"appetite\",\n",
    "              \"pedal_edema\",\"anemia\",\"class\"]"
   ]
  },
  {
   "cell_type": "code",
   "execution_count": 8,
   "id": "c3dc6b98",
   "metadata": {},
   "outputs": [
    {
     "data": {
      "text/plain": [
       "Index(['age', 'blood_preesure', 'specific_gravity', 'albumin', 'sugar',\n",
       "       'red_blood_cells', 'pus_cell', 'pus_cell_clumps', 'bacteria',\n",
       "       'blood_glucose_random', 'blood_urea', 'serum_creatinine', 'sodium',\n",
       "       'potassium', 'haemoglobin', 'packed_cell_volume',\n",
       "       'white_blood_cell_count', 'red_blood_cell_count', 'hypertension',\n",
       "       'diabetes_mellitus', 'coronary_arterty_disease', 'appetite',\n",
       "       'pedal_edema', 'anemia', 'class'],\n",
       "      dtype='object')"
      ]
     },
     "execution_count": 8,
     "metadata": {},
     "output_type": "execute_result"
    }
   ],
   "source": [
    "data.columns"
   ]
  },
  {
   "cell_type": "code",
   "execution_count": 9,
   "id": "058e027e",
   "metadata": {},
   "outputs": [
    {
     "data": {
      "text/html": [
       "<div>\n",
       "<style scoped>\n",
       "    .dataframe tbody tr th:only-of-type {\n",
       "        vertical-align: middle;\n",
       "    }\n",
       "\n",
       "    .dataframe tbody tr th {\n",
       "        vertical-align: top;\n",
       "    }\n",
       "\n",
       "    .dataframe thead th {\n",
       "        text-align: right;\n",
       "    }\n",
       "</style>\n",
       "<table border=\"1\" class=\"dataframe\">\n",
       "  <thead>\n",
       "    <tr style=\"text-align: right;\">\n",
       "      <th></th>\n",
       "      <th>age</th>\n",
       "      <th>blood_preesure</th>\n",
       "      <th>specific_gravity</th>\n",
       "      <th>albumin</th>\n",
       "      <th>sugar</th>\n",
       "      <th>red_blood_cells</th>\n",
       "      <th>pus_cell</th>\n",
       "      <th>pus_cell_clumps</th>\n",
       "      <th>bacteria</th>\n",
       "      <th>blood_glucose_random</th>\n",
       "      <th>...</th>\n",
       "      <th>packed_cell_volume</th>\n",
       "      <th>white_blood_cell_count</th>\n",
       "      <th>red_blood_cell_count</th>\n",
       "      <th>hypertension</th>\n",
       "      <th>diabetes_mellitus</th>\n",
       "      <th>coronary_arterty_disease</th>\n",
       "      <th>appetite</th>\n",
       "      <th>pedal_edema</th>\n",
       "      <th>anemia</th>\n",
       "      <th>class</th>\n",
       "    </tr>\n",
       "  </thead>\n",
       "  <tbody>\n",
       "    <tr>\n",
       "      <th>0</th>\n",
       "      <td>48.0</td>\n",
       "      <td>80.0</td>\n",
       "      <td>1.020</td>\n",
       "      <td>1.0</td>\n",
       "      <td>0.0</td>\n",
       "      <td>NaN</td>\n",
       "      <td>normal</td>\n",
       "      <td>notpresent</td>\n",
       "      <td>notpresent</td>\n",
       "      <td>121.0</td>\n",
       "      <td>...</td>\n",
       "      <td>44</td>\n",
       "      <td>7800</td>\n",
       "      <td>5.2</td>\n",
       "      <td>yes</td>\n",
       "      <td>yes</td>\n",
       "      <td>no</td>\n",
       "      <td>good</td>\n",
       "      <td>no</td>\n",
       "      <td>no</td>\n",
       "      <td>ckd</td>\n",
       "    </tr>\n",
       "    <tr>\n",
       "      <th>1</th>\n",
       "      <td>7.0</td>\n",
       "      <td>50.0</td>\n",
       "      <td>1.020</td>\n",
       "      <td>4.0</td>\n",
       "      <td>0.0</td>\n",
       "      <td>NaN</td>\n",
       "      <td>normal</td>\n",
       "      <td>notpresent</td>\n",
       "      <td>notpresent</td>\n",
       "      <td>NaN</td>\n",
       "      <td>...</td>\n",
       "      <td>38</td>\n",
       "      <td>6000</td>\n",
       "      <td>NaN</td>\n",
       "      <td>no</td>\n",
       "      <td>no</td>\n",
       "      <td>no</td>\n",
       "      <td>good</td>\n",
       "      <td>no</td>\n",
       "      <td>no</td>\n",
       "      <td>ckd</td>\n",
       "    </tr>\n",
       "    <tr>\n",
       "      <th>2</th>\n",
       "      <td>62.0</td>\n",
       "      <td>80.0</td>\n",
       "      <td>1.010</td>\n",
       "      <td>2.0</td>\n",
       "      <td>3.0</td>\n",
       "      <td>normal</td>\n",
       "      <td>normal</td>\n",
       "      <td>notpresent</td>\n",
       "      <td>notpresent</td>\n",
       "      <td>423.0</td>\n",
       "      <td>...</td>\n",
       "      <td>31</td>\n",
       "      <td>7500</td>\n",
       "      <td>NaN</td>\n",
       "      <td>no</td>\n",
       "      <td>yes</td>\n",
       "      <td>no</td>\n",
       "      <td>poor</td>\n",
       "      <td>no</td>\n",
       "      <td>yes</td>\n",
       "      <td>ckd</td>\n",
       "    </tr>\n",
       "    <tr>\n",
       "      <th>3</th>\n",
       "      <td>48.0</td>\n",
       "      <td>70.0</td>\n",
       "      <td>1.005</td>\n",
       "      <td>4.0</td>\n",
       "      <td>0.0</td>\n",
       "      <td>normal</td>\n",
       "      <td>abnormal</td>\n",
       "      <td>present</td>\n",
       "      <td>notpresent</td>\n",
       "      <td>117.0</td>\n",
       "      <td>...</td>\n",
       "      <td>32</td>\n",
       "      <td>6700</td>\n",
       "      <td>3.9</td>\n",
       "      <td>yes</td>\n",
       "      <td>no</td>\n",
       "      <td>no</td>\n",
       "      <td>poor</td>\n",
       "      <td>yes</td>\n",
       "      <td>yes</td>\n",
       "      <td>ckd</td>\n",
       "    </tr>\n",
       "    <tr>\n",
       "      <th>4</th>\n",
       "      <td>51.0</td>\n",
       "      <td>80.0</td>\n",
       "      <td>1.010</td>\n",
       "      <td>2.0</td>\n",
       "      <td>0.0</td>\n",
       "      <td>normal</td>\n",
       "      <td>normal</td>\n",
       "      <td>notpresent</td>\n",
       "      <td>notpresent</td>\n",
       "      <td>106.0</td>\n",
       "      <td>...</td>\n",
       "      <td>35</td>\n",
       "      <td>7300</td>\n",
       "      <td>4.6</td>\n",
       "      <td>no</td>\n",
       "      <td>no</td>\n",
       "      <td>no</td>\n",
       "      <td>good</td>\n",
       "      <td>no</td>\n",
       "      <td>no</td>\n",
       "      <td>ckd</td>\n",
       "    </tr>\n",
       "  </tbody>\n",
       "</table>\n",
       "<p>5 rows × 25 columns</p>\n",
       "</div>"
      ],
      "text/plain": [
       "    age  blood_preesure  specific_gravity  albumin  sugar red_blood_cells  \\\n",
       "0  48.0            80.0             1.020      1.0    0.0             NaN   \n",
       "1   7.0            50.0             1.020      4.0    0.0             NaN   \n",
       "2  62.0            80.0             1.010      2.0    3.0          normal   \n",
       "3  48.0            70.0             1.005      4.0    0.0          normal   \n",
       "4  51.0            80.0             1.010      2.0    0.0          normal   \n",
       "\n",
       "   pus_cell pus_cell_clumps    bacteria  blood_glucose_random  ...  \\\n",
       "0    normal      notpresent  notpresent                 121.0  ...   \n",
       "1    normal      notpresent  notpresent                   NaN  ...   \n",
       "2    normal      notpresent  notpresent                 423.0  ...   \n",
       "3  abnormal         present  notpresent                 117.0  ...   \n",
       "4    normal      notpresent  notpresent                 106.0  ...   \n",
       "\n",
       "   packed_cell_volume  white_blood_cell_count  red_blood_cell_count  \\\n",
       "0                  44                    7800                   5.2   \n",
       "1                  38                    6000                   NaN   \n",
       "2                  31                    7500                   NaN   \n",
       "3                  32                    6700                   3.9   \n",
       "4                  35                    7300                   4.6   \n",
       "\n",
       "   hypertension  diabetes_mellitus coronary_arterty_disease appetite  \\\n",
       "0           yes                yes                       no     good   \n",
       "1            no                 no                       no     good   \n",
       "2            no                yes                       no     poor   \n",
       "3           yes                 no                       no     poor   \n",
       "4            no                 no                       no     good   \n",
       "\n",
       "  pedal_edema anemia class  \n",
       "0          no     no   ckd  \n",
       "1          no     no   ckd  \n",
       "2          no    yes   ckd  \n",
       "3         yes    yes   ckd  \n",
       "4          no     no   ckd  \n",
       "\n",
       "[5 rows x 25 columns]"
      ]
     },
     "execution_count": 9,
     "metadata": {},
     "output_type": "execute_result"
    }
   ],
   "source": [
    "data.head()"
   ]
  },
  {
   "cell_type": "markdown",
   "id": "9f303f9a",
   "metadata": {},
   "source": [
    "# Understanding Data Type And Summary Of Features"
   ]
  },
  {
   "cell_type": "code",
   "execution_count": 10,
   "id": "b49f3c59",
   "metadata": {},
   "outputs": [
    {
     "name": "stdout",
     "output_type": "stream",
     "text": [
      "<class 'pandas.core.frame.DataFrame'>\n",
      "RangeIndex: 400 entries, 0 to 399\n",
      "Data columns (total 25 columns):\n",
      " #   Column                    Non-Null Count  Dtype  \n",
      "---  ------                    --------------  -----  \n",
      " 0   age                       391 non-null    float64\n",
      " 1   blood_preesure            388 non-null    float64\n",
      " 2   specific_gravity          353 non-null    float64\n",
      " 3   albumin                   354 non-null    float64\n",
      " 4   sugar                     351 non-null    float64\n",
      " 5   red_blood_cells           248 non-null    object \n",
      " 6   pus_cell                  335 non-null    object \n",
      " 7   pus_cell_clumps           396 non-null    object \n",
      " 8   bacteria                  396 non-null    object \n",
      " 9   blood_glucose_random      356 non-null    float64\n",
      " 10  blood_urea                381 non-null    float64\n",
      " 11  serum_creatinine          383 non-null    float64\n",
      " 12  sodium                    313 non-null    float64\n",
      " 13  potassium                 312 non-null    float64\n",
      " 14  haemoglobin               348 non-null    float64\n",
      " 15  packed_cell_volume        330 non-null    object \n",
      " 16  white_blood_cell_count    295 non-null    object \n",
      " 17  red_blood_cell_count      270 non-null    object \n",
      " 18  hypertension              398 non-null    object \n",
      " 19  diabetes_mellitus         398 non-null    object \n",
      " 20  coronary_arterty_disease  398 non-null    object \n",
      " 21  appetite                  399 non-null    object \n",
      " 22  pedal_edema               399 non-null    object \n",
      " 23  anemia                    399 non-null    object \n",
      " 24  class                     400 non-null    object \n",
      "dtypes: float64(11), object(14)\n",
      "memory usage: 56.3+ KB\n"
     ]
    }
   ],
   "source": [
    "data.info()"
   ]
  },
  {
   "cell_type": "code",
   "execution_count": 11,
   "id": "56abaefd",
   "metadata": {},
   "outputs": [
    {
     "data": {
      "text/plain": [
       "array(['ckd', 'ckd\\t', 'notckd'], dtype=object)"
      ]
     },
     "execution_count": 11,
     "metadata": {},
     "output_type": "execute_result"
    }
   ],
   "source": [
    "# First, let's take care of our prediction  column\n",
    "data[\"class\"].unique()\n",
    "# unique() function is used for finding the number of different classes present in the column."
   ]
  },
  {
   "cell_type": "code",
   "execution_count": 12,
   "id": "bcaf0833",
   "metadata": {},
   "outputs": [
    {
     "data": {
      "text/plain": [
       "array(['ckd', 'notckd'], dtype=object)"
      ]
     },
     "execution_count": 12,
     "metadata": {},
     "output_type": "execute_result"
    }
   ],
   "source": [
    "data[\"class\"]=data[\"class\"].replace('ckd\\t','ckd')\n",
    "# replace() function is used to rename the older string with a new string.\n",
    "\n",
    "data[\"class\"].unique()"
   ]
  },
  {
   "cell_type": "markdown",
   "id": "33131db6",
   "metadata": {},
   "source": [
    "# Categorical Columns "
   ]
  },
  {
   "cell_type": "code",
   "execution_count": 13,
   "id": "103363a7",
   "metadata": {},
   "outputs": [],
   "source": [
    "catcols = set(data.dtypes[data.dtypes ==\"object\"].index.values)"
   ]
  },
  {
   "cell_type": "code",
   "execution_count": 14,
   "id": "d535e7d3",
   "metadata": {},
   "outputs": [
    {
     "name": "stdout",
     "output_type": "stream",
     "text": [
      "{'red_blood_cell_count', 'bacteria', 'anemia', 'pus_cell_clumps', 'white_blood_cell_count', 'pedal_edema', 'red_blood_cells', 'packed_cell_volume', 'diabetes_mellitus', 'class', 'pus_cell', 'coronary_arterty_disease', 'appetite', 'hypertension'}\n"
     ]
    }
   ],
   "source": [
    "print(catcols)"
   ]
  },
  {
   "cell_type": "code",
   "execution_count": 15,
   "id": "82e9ebcd",
   "metadata": {},
   "outputs": [
    {
     "name": "stdout",
     "output_type": "stream",
     "text": [
      "columns: red_blood_cell_count\n",
      "Counter({nan: 130, '5.2': 18, '4.5': 16, '4.9': 14, '4.7': 11, '3.9': 10, '5': 10, '4.8': 10, '4.6': 9, '3.4': 9, '3.7': 8, '6.1': 8, '5.5': 8, '5.9': 8, '3.8': 7, '5.4': 7, '5.8': 7, '5.3': 7, '4': 6, '4.3': 6, '4.2': 6, '5.6': 6, '4.4': 5, '3.2': 5, '4.1': 5, '6.2': 5, '5.1': 5, '6.4': 5, '5.7': 5, '6.5': 5, '3.6': 4, '6': 4, '6.3': 4, '3.5': 3, '3.3': 3, '3': 3, '2.6': 2, '2.8': 2, '2.5': 2, '3.1': 2, '2.1': 2, '2.9': 2, '2.7': 2, '2.3': 1, '8': 1, '2.4': 1, '\\t?': 1})\n",
      "************************************************************************************************************************\n",
      "\n",
      "columns: bacteria\n",
      "Counter({'notpresent': 374, 'present': 22, nan: 4})\n",
      "************************************************************************************************************************\n",
      "\n",
      "columns: anemia\n",
      "Counter({'no': 339, 'yes': 60, nan: 1})\n",
      "************************************************************************************************************************\n",
      "\n",
      "columns: pus_cell_clumps\n",
      "Counter({'notpresent': 354, 'present': 42, nan: 4})\n",
      "************************************************************************************************************************\n",
      "\n",
      "columns: white_blood_cell_count\n",
      "Counter({nan: 105, '9800': 11, '6700': 10, '9600': 9, '9200': 9, '7200': 9, '6900': 8, '11000': 8, '5800': 8, '7800': 7, '9100': 7, '9400': 7, '7000': 7, '4300': 6, '6300': 6, '10700': 6, '10500': 6, '7500': 5, '8300': 5, '7900': 5, '8600': 5, '5600': 5, '10200': 5, '5000': 5, '8100': 5, '9500': 5, '6000': 4, '6200': 4, '10300': 4, '7700': 4, '5500': 4, '10400': 4, '6800': 4, '6500': 4, '4700': 4, '7300': 3, '4500': 3, '8400': 3, '6400': 3, '4200': 3, '7400': 3, '8000': 3, '5400': 3, '3800': 2, '11400': 2, '5300': 2, '8500': 2, '14600': 2, '7100': 2, '13200': 2, '9000': 2, '8200': 2, '15200': 2, '12400': 2, '12800': 2, '8800': 2, '5700': 2, '9300': 2, '6600': 2, '12100': 1, '12200': 1, '18900': 1, '21600': 1, '11300': 1, '\\t6200': 1, '11800': 1, '12500': 1, '11900': 1, '12700': 1, '13600': 1, '14900': 1, '16300': 1, '\\t8400': 1, '10900': 1, '2200': 1, '11200': 1, '19100': 1, '\\t?': 1, '12300': 1, '16700': 1, '2600': 1, '26400': 1, '4900': 1, '12000': 1, '15700': 1, '4100': 1, '11500': 1, '10800': 1, '9900': 1, '5200': 1, '5900': 1, '9700': 1, '5100': 1})\n",
      "************************************************************************************************************************\n",
      "\n",
      "columns: pedal_edema\n",
      "Counter({'no': 323, 'yes': 76, nan: 1})\n",
      "************************************************************************************************************************\n",
      "\n",
      "columns: red_blood_cells\n",
      "Counter({'normal': 201, nan: 152, 'abnormal': 47})\n",
      "************************************************************************************************************************\n",
      "\n",
      "columns: packed_cell_volume\n",
      "Counter({nan: 70, '52': 21, '41': 21, '44': 19, '48': 19, '40': 16, '43': 14, '45': 13, '42': 13, '32': 12, '36': 12, '33': 12, '28': 12, '50': 12, '37': 11, '34': 11, '35': 9, '29': 9, '30': 9, '46': 9, '31': 8, '39': 7, '24': 7, '26': 6, '38': 5, '47': 4, '49': 4, '53': 4, '51': 4, '54': 4, '27': 3, '22': 3, '25': 3, '23': 2, '19': 2, '16': 1, '\\t?': 1, '14': 1, '18': 1, '17': 1, '15': 1, '21': 1, '20': 1, '\\t43': 1, '9': 1})\n",
      "************************************************************************************************************************\n",
      "\n",
      "columns: diabetes_mellitus\n",
      "Counter({'no': 258, 'yes': 134, '\\tno': 3, '\\tyes': 2, nan: 2, ' yes': 1})\n",
      "************************************************************************************************************************\n",
      "\n",
      "columns: class\n",
      "Counter({'ckd': 250, 'notckd': 150})\n",
      "************************************************************************************************************************\n",
      "\n",
      "columns: pus_cell\n",
      "Counter({'normal': 259, 'abnormal': 76, nan: 65})\n",
      "************************************************************************************************************************\n",
      "\n",
      "columns: coronary_arterty_disease\n",
      "Counter({'no': 362, 'yes': 34, '\\tno': 2, nan: 2})\n",
      "************************************************************************************************************************\n",
      "\n",
      "columns: appetite\n",
      "Counter({'good': 317, 'poor': 82, nan: 1})\n",
      "************************************************************************************************************************\n",
      "\n",
      "columns: hypertension\n",
      "Counter({'no': 251, 'yes': 147, nan: 2})\n",
      "************************************************************************************************************************\n",
      "\n"
     ]
    }
   ],
   "source": [
    "\n",
    "for i in catcols:\n",
    "    print(\"columns:\",i)\n",
    "    print(c(data[i]))\n",
    "    print(\"*\"*120+'\\n')"
   ]
  },
  {
   "cell_type": "markdown",
   "id": "445ecf66",
   "metadata": {},
   "source": [
    "# Understanding Data Type And Summary Of Features"
   ]
  },
  {
   "cell_type": "code",
   "execution_count": 16,
   "id": "1668c50f",
   "metadata": {},
   "outputs": [
    {
     "name": "stdout",
     "output_type": "stream",
     "text": [
      "{'bacteria', 'anemia', 'pus_cell_clumps', 'pedal_edema', 'red_blood_cells', 'diabetes_mellitus', 'class', 'pus_cell', 'coronary_arterty_disease', 'appetite', 'hypertension'}\n"
     ]
    }
   ],
   "source": [
    "catcols.remove(\"red_blood_cell_count\")\n",
    "catcols.remove(\"packed_cell_volume\")\n",
    "catcols.remove(\"white_blood_cell_count\")\n",
    "print(catcols)"
   ]
  },
  {
   "cell_type": "markdown",
   "id": "df87c672",
   "metadata": {},
   "source": [
    "# observing numericals"
   ]
  },
  {
   "cell_type": "code",
   "execution_count": 17,
   "id": "466ff907",
   "metadata": {},
   "outputs": [
    {
     "name": "stdout",
     "output_type": "stream",
     "text": [
      "{'albumin', 'haemoglobin', 'sugar', 'sodium', 'age', 'specific_gravity', 'blood_preesure', 'potassium', 'blood_glucose_random', 'serum_creatinine', 'blood_urea'}\n"
     ]
    }
   ],
   "source": [
    "catcols = set(data.dtypes[data.dtypes !=\"object\"].index.values)\n",
    "print(catcols)"
   ]
  },
  {
   "cell_type": "code",
   "execution_count": 18,
   "id": "069676f1",
   "metadata": {},
   "outputs": [
    {
     "name": "stdout",
     "output_type": "stream",
     "text": [
      "continuous columns: albumin\n",
      "Counter({0.0: 199, 1.0: 44, 2.0: 43, 3.0: 43, 4.0: 24, nan: 1, nan: 1, nan: 1, nan: 1, nan: 1, nan: 1, nan: 1, nan: 1, nan: 1, nan: 1, nan: 1, nan: 1, nan: 1, nan: 1, nan: 1, nan: 1, nan: 1, nan: 1, nan: 1, nan: 1, nan: 1, nan: 1, 5.0: 1, nan: 1, nan: 1, nan: 1, nan: 1, nan: 1, nan: 1, nan: 1, nan: 1, nan: 1, nan: 1, nan: 1, nan: 1, nan: 1, nan: 1, nan: 1, nan: 1, nan: 1, nan: 1, nan: 1, nan: 1, nan: 1, nan: 1, nan: 1, nan: 1})\n",
      "************************************************************************************************************************\n",
      "\n",
      "continuous columns: haemoglobin\n",
      "Counter({15.0: 16, 10.9: 8, 9.8: 7, 11.1: 7, 13.0: 7, 13.6: 7, 11.3: 6, 10.3: 6, 12.0: 6, 13.9: 6, 15.4: 5, 11.2: 5, 10.8: 5, 9.7: 5, 12.6: 5, 7.9: 5, 10.0: 5, 14.0: 5, 14.3: 5, 14.8: 5, 12.2: 4, 12.4: 4, 12.5: 4, 15.2: 4, 9.1: 4, 11.9: 4, 13.5: 4, 16.1: 4, 14.1: 4, 13.2: 4, 13.8: 4, 13.7: 4, 13.4: 4, 17.0: 4, 15.5: 4, 15.8: 4, 9.6: 3, 11.6: 3, 9.5: 3, 9.4: 3, 12.7: 3, 9.9: 3, 10.1: 3, 8.6: 3, 11.0: 3, 15.6: 3, 8.1: 3, 8.3: 3, 10.4: 3, 11.8: 3, 11.4: 3, 11.5: 3, 15.9: 3, 14.5: 3, 16.2: 3, 14.4: 3, 14.2: 3, 16.3: 3, 16.5: 3, 15.7: 3, 16.4: 3, 14.9: 3, 15.3: 3, 17.8: 3, 12.1: 2, 9.3: 2, 10.2: 2, 10.5: 2, 6.0: 2, 11.7: 2, 8.0: 2, 12.3: 2, 8.7: 2, 13.1: 2, 8.8: 2, 13.3: 2, 14.6: 2, 16.9: 2, 16.0: 2, 14.7: 2, 16.6: 2, 16.7: 2, 16.8: 2, 15.1: 2, 17.1: 2, 17.2: 2, 17.4: 2, 5.6: 1, 7.6: 1, 7.7: 1, nan: 1, nan: 1, 12.9: 1, nan: 1, nan: 1, nan: 1, nan: 1, 6.6: 1, nan: 1, nan: 1, 7.5: 1, nan: 1, nan: 1, 4.8: 1, nan: 1, nan: 1, 7.1: 1, nan: 1, nan: 1, nan: 1, 9.2: 1, nan: 1, 6.2: 1, nan: 1, nan: 1, nan: 1, nan: 1, nan: 1, nan: 1, 8.2: 1, nan: 1, nan: 1, 6.1: 1, nan: 1, nan: 1, nan: 1, nan: 1, 8.4: 1, nan: 1, 9.0: 1, nan: 1, nan: 1, 10.6: 1, nan: 1, nan: 1, nan: 1, 10.7: 1, nan: 1, 5.5: 1, nan: 1, 5.8: 1, 6.8: 1, 8.5: 1, 7.3: 1, nan: 1, nan: 1, 12.8: 1, nan: 1, nan: 1, nan: 1, nan: 1, nan: 1, nan: 1, nan: 1, 6.3: 1, nan: 1, 3.1: 1, nan: 1, 17.3: 1, nan: 1, nan: 1, nan: 1, nan: 1, 17.7: 1, 17.5: 1, nan: 1, 17.6: 1})\n",
      "************************************************************************************************************************\n",
      "\n",
      "continuous columns: sugar\n",
      "Counter({0.0: 290, 2.0: 18, 3.0: 14, 4.0: 13, 1.0: 13, 5.0: 3, nan: 1, nan: 1, nan: 1, nan: 1, nan: 1, nan: 1, nan: 1, nan: 1, nan: 1, nan: 1, nan: 1, nan: 1, nan: 1, nan: 1, nan: 1, nan: 1, nan: 1, nan: 1, nan: 1, nan: 1, nan: 1, nan: 1, nan: 1, nan: 1, nan: 1, nan: 1, nan: 1, nan: 1, nan: 1, nan: 1, nan: 1, nan: 1, nan: 1, nan: 1, nan: 1, nan: 1, nan: 1, nan: 1, nan: 1, nan: 1, nan: 1, nan: 1, nan: 1, nan: 1, nan: 1, nan: 1, nan: 1, nan: 1, nan: 1})\n",
      "************************************************************************************************************************\n",
      "\n",
      "continuous columns: sodium\n",
      "Counter({135.0: 40, 140.0: 25, 141.0: 22, 139.0: 21, 142.0: 20, 138.0: 20, 137.0: 19, 136.0: 17, 150.0: 17, 147.0: 13, 145.0: 11, 132.0: 10, 146.0: 10, 131.0: 9, 144.0: 9, 133.0: 8, 130.0: 7, 134.0: 6, 143.0: 4, 127.0: 3, 124.0: 3, 114.0: 2, 125.0: 2, 128.0: 2, 122.0: 2, 113.0: 2, 120.0: 2, nan: 1, nan: 1, nan: 1, 111.0: 1, nan: 1, 104.0: 1, nan: 1, nan: 1, nan: 1, nan: 1, 4.5: 1, nan: 1, 129.0: 1, nan: 1, nan: 1, nan: 1, nan: 1, nan: 1, nan: 1, nan: 1, nan: 1, nan: 1, nan: 1, nan: 1, nan: 1, nan: 1, 163.0: 1, nan: 1, nan: 1, nan: 1, nan: 1, nan: 1, nan: 1, nan: 1, nan: 1, nan: 1, nan: 1, nan: 1, nan: 1, nan: 1, nan: 1, nan: 1, nan: 1, nan: 1, nan: 1, nan: 1, nan: 1, nan: 1, nan: 1, nan: 1, nan: 1, nan: 1, 126.0: 1, nan: 1, nan: 1, nan: 1, nan: 1, nan: 1, nan: 1, nan: 1, nan: 1, nan: 1, nan: 1, 115.0: 1, nan: 1, nan: 1, nan: 1, nan: 1, nan: 1, nan: 1, nan: 1, nan: 1, nan: 1, nan: 1, nan: 1, nan: 1, nan: 1, nan: 1, nan: 1, nan: 1, nan: 1, nan: 1, nan: 1, nan: 1, nan: 1, nan: 1, nan: 1, nan: 1, nan: 1, nan: 1, nan: 1, nan: 1, nan: 1, nan: 1})\n",
      "************************************************************************************************************************\n",
      "\n",
      "continuous columns: age\n",
      "Counter({60.0: 19, 65.0: 17, 48.0: 12, 50.0: 12, 55.0: 12, 47.0: 11, 62.0: 10, 45.0: 10, 54.0: 10, 59.0: 10, 56.0: 10, 61.0: 9, 70.0: 9, 46.0: 9, 34.0: 9, 68.0: 8, 73.0: 8, 64.0: 8, 71.0: 8, 57.0: 8, 63.0: 7, 72.0: 7, 67.0: 7, 30.0: 7, 42.0: 6, 69.0: 6, 35.0: 6, 44.0: 6, 43.0: 6, 33.0: 6, 51.0: 5, 52.0: 5, 53.0: 5, 75.0: 5, 76.0: 5, 58.0: 5, 41.0: 5, 66.0: 5, 24.0: 4, 40.0: 4, 39.0: 4, 80.0: 4, 23.0: 4, 74.0: 3, 38.0: 3, 17.0: 3, 8.0: 3, 32.0: 3, 37.0: 3, 25.0: 3, 29.0: 3, 21.0: 2, 15.0: 2, 5.0: 2, 12.0: 2, 49.0: 2, 19.0: 2, 36.0: 2, 20.0: 2, 28.0: 2, 7.0: 1, nan: 1, 82.0: 1, 11.0: 1, 26.0: 1, nan: 1, nan: 1, nan: 1, nan: 1, 81.0: 1, 14.0: 1, 27.0: 1, nan: 1, 83.0: 1, 4.0: 1, 3.0: 1, 6.0: 1, nan: 1, 90.0: 1, 78.0: 1, nan: 1, 2.0: 1, nan: 1, 22.0: 1, 79.0: 1})\n",
      "************************************************************************************************************************\n",
      "\n",
      "continuous columns: specific_gravity\n",
      "Counter({1.02: 106, 1.01: 84, 1.025: 81, 1.015: 75, 1.005: 7, nan: 1, nan: 1, nan: 1, nan: 1, nan: 1, nan: 1, nan: 1, nan: 1, nan: 1, nan: 1, nan: 1, nan: 1, nan: 1, nan: 1, nan: 1, nan: 1, nan: 1, nan: 1, nan: 1, nan: 1, nan: 1, nan: 1, nan: 1, nan: 1, nan: 1, nan: 1, nan: 1, nan: 1, nan: 1, nan: 1, nan: 1, nan: 1, nan: 1, nan: 1, nan: 1, nan: 1, nan: 1, nan: 1, nan: 1, nan: 1, nan: 1, nan: 1, nan: 1, nan: 1, nan: 1, nan: 1, nan: 1})\n",
      "************************************************************************************************************************\n",
      "\n",
      "continuous columns: blood_preesure\n",
      "Counter({80.0: 116, 70.0: 112, 60.0: 71, 90.0: 53, 100.0: 25, 50.0: 5, 110.0: 3, nan: 1, nan: 1, 140.0: 1, 180.0: 1, nan: 1, nan: 1, nan: 1, nan: 1, nan: 1, nan: 1, nan: 1, 120.0: 1, nan: 1, nan: 1, nan: 1})\n",
      "************************************************************************************************************************\n",
      "\n",
      "continuous columns: potassium\n",
      "Counter({5.0: 30, 3.5: 30, 4.9: 27, 4.7: 17, 4.8: 16, 4.0: 14, 4.2: 14, 4.1: 14, 3.8: 14, 3.9: 14, 4.4: 14, 4.5: 13, 3.7: 12, 4.3: 12, 3.6: 8, 4.6: 7, 3.4: 5, 5.2: 5, 5.7: 4, 5.3: 4, 3.2: 3, 5.5: 3, 2.9: 3, 5.4: 3, 6.3: 3, 3.3: 3, 2.5: 2, 5.8: 2, 5.9: 2, 5.6: 2, 3.0: 2, 6.5: 2, nan: 1, nan: 1, nan: 1, nan: 1, nan: 1, nan: 1, nan: 1, 6.4: 1, nan: 1, nan: 1, nan: 1, nan: 1, nan: 1, nan: 1, nan: 1, nan: 1, nan: 1, nan: 1, nan: 1, nan: 1, nan: 1, nan: 1, nan: 1, nan: 1, 6.6: 1, 39.0: 1, nan: 1, nan: 1, nan: 1, nan: 1, nan: 1, nan: 1, nan: 1, 7.6: 1, nan: 1, nan: 1, nan: 1, nan: 1, nan: 1, nan: 1, nan: 1, nan: 1, nan: 1, nan: 1, nan: 1, nan: 1, nan: 1, nan: 1, nan: 1, nan: 1, nan: 1, 47.0: 1, nan: 1, 5.1: 1, nan: 1, nan: 1, nan: 1, nan: 1, nan: 1, nan: 1, nan: 1, nan: 1, nan: 1, nan: 1, 2.8: 1, nan: 1, nan: 1, nan: 1, nan: 1, 2.7: 1, nan: 1, nan: 1, nan: 1, nan: 1, nan: 1, nan: 1, nan: 1, nan: 1, nan: 1, nan: 1, nan: 1, nan: 1, nan: 1, nan: 1, nan: 1, nan: 1, nan: 1, nan: 1, nan: 1, nan: 1, nan: 1, nan: 1, nan: 1, nan: 1, nan: 1, nan: 1})\n",
      "************************************************************************************************************************\n",
      "\n",
      "continuous columns: blood_glucose_random\n",
      "Counter({99.0: 10, 100.0: 9, 93.0: 9, 107.0: 8, 117.0: 6, 140.0: 6, 92.0: 6, 109.0: 6, 131.0: 6, 130.0: 6, 70.0: 5, 114.0: 5, 95.0: 5, 123.0: 5, 124.0: 5, 102.0: 5, 132.0: 5, 104.0: 5, 125.0: 5, 122.0: 5, 121.0: 4, 106.0: 4, 76.0: 4, 91.0: 4, 129.0: 4, 133.0: 4, 94.0: 4, 88.0: 4, 118.0: 4, 139.0: 4, 111.0: 4, 113.0: 4, 120.0: 4, 119.0: 4, 74.0: 3, 108.0: 3, 171.0: 3, 137.0: 3, 79.0: 3, 150.0: 3, 112.0: 3, 127.0: 3, 219.0: 3, 172.0: 3, 89.0: 3, 128.0: 3, 214.0: 3, 105.0: 3, 78.0: 3, 103.0: 3, 82.0: 3, 97.0: 3, 81.0: 3, 138.0: 2, 490.0: 2, 208.0: 2, 98.0: 2, 204.0: 2, 207.0: 2, 144.0: 2, 253.0: 2, 141.0: 2, 86.0: 2, 360.0: 2, 163.0: 2, 158.0: 2, 165.0: 2, 169.0: 2, 210.0: 2, 101.0: 2, 153.0: 2, 213.0: 2, 424.0: 2, 303.0: 2, 192.0: 2, 80.0: 2, 110.0: 2, 96.0: 2, 85.0: 2, 83.0: 2, 75.0: 2, nan: 1, 423.0: 1, 410.0: 1, 380.0: 1, 157.0: 1, 263.0: 1, 173.0: 1, nan: 1, nan: 1, nan: 1, 156.0: 1, 264.0: 1, nan: 1, 159.0: 1, 270.0: 1, nan: 1, nan: 1, nan: 1, 162.0: 1, nan: 1, 246.0: 1, nan: 1, nan: 1, nan: 1, nan: 1, 182.0: 1, 146.0: 1, nan: 1, 425.0: 1, 250.0: 1, nan: 1, nan: 1, nan: 1, 415.0: 1, 251.0: 1, 280.0: 1, 295.0: 1, 298.0: 1, 226.0: 1, 143.0: 1, 115.0: 1, 297.0: 1, 233.0: 1, 294.0: 1, nan: 1, nan: 1, nan: 1, nan: 1, 323.0: 1, nan: 1, nan: 1, 90.0: 1, 308.0: 1, 224.0: 1, nan: 1, 268.0: 1, nan: 1, 256.0: 1, nan: 1, 84.0: 1, nan: 1, 288.0: 1, 273.0: 1, 242.0: 1, 148.0: 1, nan: 1, 160.0: 1, nan: 1, 307.0: 1, 220.0: 1, 447.0: 1, 309.0: 1, 22.0: 1, 261.0: 1, 215.0: 1, 234.0: 1, 352.0: 1, nan: 1, nan: 1, 239.0: 1, nan: 1, nan: 1, 184.0: 1, nan: 1, 252.0: 1, 230.0: 1, 341.0: 1, nan: 1, 255.0: 1, nan: 1, 238.0: 1, 248.0: 1, 241.0: 1, 269.0: 1, nan: 1, nan: 1, 201.0: 1, 203.0: 1, 463.0: 1, 176.0: 1, nan: 1, nan: 1, 116.0: 1, nan: 1, nan: 1, nan: 1, 134.0: 1, 87.0: 1, nan: 1})\n",
      "************************************************************************************************************************\n",
      "\n",
      "continuous columns: serum_creatinine\n",
      "Counter({1.2: 40, 1.1: 24, 1.0: 23, 0.5: 23, 0.7: 22, 0.9: 22, 0.6: 18, 0.8: 17, 2.2: 10, 1.5: 9, 1.7: 9, 1.3: 8, 1.6: 8, 1.8: 7, 1.4: 7, 2.5: 7, 2.8: 7, 1.9: 6, 2.7: 5, 2.1: 5, 2.0: 5, 3.2: 5, 3.3: 5, 3.9: 4, 7.3: 4, 4.0: 3, 2.4: 3, 3.4: 3, 2.9: 3, 5.3: 3, 2.3: 3, 7.2: 2, 4.6: 2, 4.1: 2, 5.2: 2, 6.3: 2, 3.0: 2, 6.1: 2, 6.7: 2, 5.6: 2, 6.5: 2, 4.4: 2, 6.0: 2, 3.8: 1, 24.0: 1, 9.6: 1, 76.0: 1, 7.7: 1, nan: 1, 10.8: 1, 5.9: 1, 3.25: 1, nan: 1, 9.7: 1, 6.4: 1, 32.0: 1, nan: 1, nan: 1, 8.5: 1, 15.0: 1, 3.6: 1, 10.2: 1, 11.5: 1, nan: 1, 12.2: 1, 9.2: 1, 13.8: 1, 16.9: 1, 7.1: 1, 18.0: 1, 13.0: 1, 48.1: 1, 14.2: 1, 16.4: 1, nan: 1, nan: 1, 2.6: 1, 7.5: 1, 4.3: 1, 18.1: 1, 11.8: 1, 9.3: 1, 6.8: 1, 13.5: 1, nan: 1, 12.8: 1, 11.9: 1, nan: 1, nan: 1, nan: 1, 12.0: 1, nan: 1, 13.4: 1, 15.2: 1, 13.3: 1, nan: 1, nan: 1, nan: 1, nan: 1, nan: 1, 0.4: 1})\n",
      "************************************************************************************************************************\n",
      "\n",
      "continuous columns: blood_urea\n",
      "Counter({46.0: 15, 25.0: 13, 19.0: 11, 40.0: 10, 18.0: 9, 50.0: 9, 15.0: 9, 48.0: 9, 26.0: 8, 27.0: 8, 32.0: 8, 49.0: 8, 36.0: 7, 28.0: 7, 20.0: 7, 17.0: 7, 38.0: 7, 16.0: 7, 30.0: 7, 44.0: 7, 31.0: 6, 45.0: 6, 39.0: 6, 29.0: 6, 24.0: 6, 37.0: 6, 22.0: 6, 23.0: 6, 53.0: 5, 55.0: 5, 33.0: 5, 66.0: 5, 35.0: 5, 42.0: 5, 47.0: 4, 51.0: 4, 34.0: 4, 68.0: 4, 41.0: 4, 60.0: 3, 107.0: 3, 80.0: 3, 96.0: 3, 52.0: 3, 106.0: 3, 125.0: 3, 56.0: 2, 54.0: 2, 72.0: 2, 86.0: 2, 90.0: 2, 87.0: 2, 155.0: 2, 153.0: 2, 77.0: 2, 89.0: 2, 111.0: 2, 73.0: 2, 98.0: 2, 82.0: 2, 132.0: 2, 58.0: 2, 10.0: 2, 162.0: 1, 148.0: 1, 180.0: 1, 163.0: 1, nan: 1, 75.0: 1, 65.0: 1, 103.0: 1, 70.0: 1, 202.0: 1, 114.0: 1, nan: 1, nan: 1, 164.0: 1, 142.0: 1, 391.0: 1, nan: 1, nan: 1, 92.0: 1, 139.0: 1, 85.0: 1, 186.0: 1, 217.0: 1, 88.0: 1, 118.0: 1, 50.1: 1, 71.0: 1, nan: 1, 21.0: 1, 219.0: 1, 166.0: 1, 208.0: 1, 176.0: 1, nan: 1, 145.0: 1, 165.0: 1, 322.0: 1, 235.0: 1, 76.0: 1, nan: 1, nan: 1, 113.0: 1, 1.5: 1, 146.0: 1, 133.0: 1, 137.0: 1, 67.0: 1, 115.0: 1, 223.0: 1, 98.6: 1, 158.0: 1, 94.0: 1, 74.0: 1, nan: 1, 150.0: 1, nan: 1, 61.0: 1, 57.0: 1, nan: 1, 95.0: 1, 191.0: 1, nan: 1, 93.0: 1, 241.0: 1, 64.0: 1, 79.0: 1, 215.0: 1, 309.0: 1, nan: 1, nan: 1, nan: 1, nan: 1, nan: 1, nan: 1})\n",
      "************************************************************************************************************************\n",
      "\n"
     ]
    }
   ],
   "source": [
    "for i in catcols:\n",
    "    print(\"continuous columns:\",i)\n",
    "    print(c(data[i]))\n",
    "    print(\"*\"*120+'\\n')"
   ]
  },
  {
   "cell_type": "code",
   "execution_count": 19,
   "id": "2049cfab",
   "metadata": {},
   "outputs": [
    {
     "name": "stdout",
     "output_type": "stream",
     "text": [
      "{'albumin', 'haemoglobin', 'sugar', 'sodium', 'age', 'specific_gravity', 'blood_preesure', 'potassium', 'blood_glucose_random', 'serum_creatinine', 'blood_urea'}\n"
     ]
    }
   ],
   "source": [
    "print(catcols)"
   ]
  },
  {
   "cell_type": "code",
   "execution_count": 20,
   "id": "a9d4728a",
   "metadata": {},
   "outputs": [
    {
     "name": "stdout",
     "output_type": "stream",
     "text": [
      "{'haemoglobin', 'sodium', 'age', 'blood_preesure', 'potassium', 'blood_glucose_random', 'serum_creatinine', 'blood_urea'}\n"
     ]
    }
   ],
   "source": [
    "catcols.remove('specific_gravity')\n",
    "catcols.remove('albumin')\n",
    "catcols.remove('sugar')\n",
    "print(catcols)"
   ]
  },
  {
   "cell_type": "markdown",
   "id": "f3bb6b01",
   "metadata": {},
   "source": [
    "# Understanding Data Type And Summary Of Features"
   ]
  },
  {
   "cell_type": "code",
   "execution_count": 21,
   "id": "42ef7f02",
   "metadata": {},
   "outputs": [
    {
     "name": "stdout",
     "output_type": "stream",
     "text": [
      "{'red_blood_cell_count', 'haemoglobin', 'sodium', 'age', 'white_blood_cell_count', 'blood_preesure', 'potassium', 'packed_cell_volume', 'blood_glucose_random', 'serum_creatinine', 'blood_urea'}\n"
     ]
    }
   ],
   "source": [
    "catcols.add(\"red_blood_cell_count\")\n",
    "catcols.add(\"packed_cell_volume\")\n",
    "catcols.add(\"white_blood_cell_count\")\n",
    "print(catcols)"
   ]
  },
  {
   "cell_type": "code",
   "execution_count": 22,
   "id": "e50be86b",
   "metadata": {},
   "outputs": [
    {
     "name": "stdout",
     "output_type": "stream",
     "text": [
      "{'red_blood_cell_count', 'albumin', 'haemoglobin', 'sugar', 'sodium', 'age', 'white_blood_cell_count', 'specific_gravity', 'blood_preesure', 'potassium', 'packed_cell_volume', 'blood_glucose_random', 'serum_creatinine', 'blood_urea'}\n"
     ]
    }
   ],
   "source": [
    "catcols.add('specific_gravity')\n",
    "catcols.add('albumin')\n",
    "catcols.add('sugar')\n",
    "print(catcols)"
   ]
  },
  {
   "cell_type": "code",
   "execution_count": 23,
   "id": "8544e4d9",
   "metadata": {},
   "outputs": [
    {
     "data": {
      "text/plain": [
       "Counter({'no': 364, 'yes': 34, nan: 2})"
      ]
     },
     "execution_count": 23,
     "metadata": {},
     "output_type": "execute_result"
    }
   ],
   "source": [
    "data[\"coronary_arterty_disease\"] = data.coronary_arterty_disease.replace('\\tno','no')\n",
    "c(data[\"coronary_arterty_disease\"])"
   ]
  },
  {
   "cell_type": "code",
   "execution_count": 24,
   "id": "ca4588e4",
   "metadata": {},
   "outputs": [
    {
     "data": {
      "text/plain": [
       "Counter({'yes': 137, 'no': 261, nan: 2})"
      ]
     },
     "execution_count": 24,
     "metadata": {},
     "output_type": "execute_result"
    }
   ],
   "source": [
    "data[\"diabetes_mellitus\"] = data.diabetes_mellitus.replace(to_replace={'\\tno':'no','\\tyes':'yes',' yes':'yes'})\n",
    "c(data[\"diabetes_mellitus\"])"
   ]
  },
  {
   "cell_type": "markdown",
   "id": "80538deb",
   "metadata": {},
   "source": [
    "# Handling The Missing Values"
   ]
  },
  {
   "cell_type": "code",
   "execution_count": 25,
   "id": "3da71b7c",
   "metadata": {},
   "outputs": [
    {
     "data": {
      "text/plain": [
       "age                          True\n",
       "blood_preesure               True\n",
       "specific_gravity             True\n",
       "albumin                      True\n",
       "sugar                        True\n",
       "red_blood_cells              True\n",
       "pus_cell                     True\n",
       "pus_cell_clumps              True\n",
       "bacteria                     True\n",
       "blood_glucose_random         True\n",
       "blood_urea                   True\n",
       "serum_creatinine             True\n",
       "sodium                       True\n",
       "potassium                    True\n",
       "haemoglobin                  True\n",
       "packed_cell_volume           True\n",
       "white_blood_cell_count       True\n",
       "red_blood_cell_count         True\n",
       "hypertension                 True\n",
       "diabetes_mellitus            True\n",
       "coronary_arterty_disease     True\n",
       "appetite                     True\n",
       "pedal_edema                  True\n",
       "anemia                       True\n",
       "class                       False\n",
       "dtype: bool"
      ]
     },
     "execution_count": 25,
     "metadata": {},
     "output_type": "execute_result"
    }
   ],
   "source": [
    "data.isnull().any()"
   ]
  },
  {
   "cell_type": "code",
   "execution_count": 26,
   "id": "0d3dc4ec",
   "metadata": {},
   "outputs": [
    {
     "data": {
      "text/plain": [
       "age                           9\n",
       "blood_preesure               12\n",
       "specific_gravity             47\n",
       "albumin                      46\n",
       "sugar                        49\n",
       "red_blood_cells             152\n",
       "pus_cell                     65\n",
       "pus_cell_clumps               4\n",
       "bacteria                      4\n",
       "blood_glucose_random         44\n",
       "blood_urea                   19\n",
       "serum_creatinine             17\n",
       "sodium                       87\n",
       "potassium                    88\n",
       "haemoglobin                  52\n",
       "packed_cell_volume           70\n",
       "white_blood_cell_count      105\n",
       "red_blood_cell_count        130\n",
       "hypertension                  2\n",
       "diabetes_mellitus             2\n",
       "coronary_arterty_disease      2\n",
       "appetite                      1\n",
       "pedal_edema                   1\n",
       "anemia                        1\n",
       "class                         0\n",
       "dtype: int64"
      ]
     },
     "execution_count": 26,
     "metadata": {},
     "output_type": "execute_result"
    }
   ],
   "source": [
    "data.isnull().sum()"
   ]
  },
  {
   "cell_type": "code",
   "execution_count": 27,
   "id": "27c5f810",
   "metadata": {},
   "outputs": [],
   "source": [
    "data.packed_cell_volume = pd.to_numeric(data.packed_cell_volume,errors='coerce')\n",
    "data.white_blood_cell_count = pd.to_numeric(data.white_blood_cell_count,errors='coerce')\n",
    "data.red_blood_cell_count = pd.to_numeric(data.red_blood_cell_count,errors='coerce')\n"
   ]
  },
  {
   "cell_type": "markdown",
   "id": "f505231d",
   "metadata": {},
   "source": [
    "# Replacing The Missing Values"
   ]
  },
  {
   "cell_type": "code",
   "execution_count": 28,
   "id": "2d99729c",
   "metadata": {},
   "outputs": [],
   "source": [
    "data['blood_glucose_random'].fillna(data['blood_glucose_random'].mean(),inplace=True)\n",
    "data['blood_preesure'].fillna(data['blood_preesure'].mean(),inplace=True)\n",
    "\n",
    "data['blood_urea'].fillna(data['blood_urea'].mean(),inplace=True)\n",
    "\n",
    "data['haemoglobin'].fillna(data['haemoglobin'].mean(),inplace=True)\n",
    "\n",
    "data['packed_cell_volume'].fillna(data['packed_cell_volume'].mean(),inplace=True)\n",
    "\n",
    "data['potassium'].fillna(data['potassium'].mean(),inplace=True)\n",
    "\n",
    "data['red_blood_cell_count'].fillna(data['red_blood_cell_count'].mean(),inplace=True)\n",
    "data['serum_creatinine'].fillna(data['serum_creatinine'].mean(),inplace=True)\n",
    "data['sodium'].fillna(data['sodium'].mean(),inplace=True)\n",
    "data['white_blood_cell_count'].fillna(data['white_blood_cell_count'].mean(),inplace=True)\n",
    "\n"
   ]
  },
  {
   "cell_type": "code",
   "execution_count": 29,
   "id": "14cacb19",
   "metadata": {},
   "outputs": [],
   "source": [
    "data['age'].fillna(data['age'].mode()[0],inplace=True)\n",
    "data['hypertension'].fillna(data['hypertension'].mode()[0],inplace=True)\n",
    "data['pus_cell_clumps'].fillna(data['pus_cell_clumps'].mode()[0],inplace=True)\n",
    "data['appetite'].fillna(data['appetite'].mode()[0],inplace=True)\n",
    "data['albumin'].fillna(data['albumin'].mode()[0],inplace=True)\n",
    "data['pus_cell'].fillna(data['pus_cell'].mode()[0],inplace=True)\n",
    "data['red_blood_cells'].fillna(data['red_blood_cells'].mode()[0],inplace=True)\n",
    "data['coronary_arterty_disease'].fillna(data['coronary_arterty_disease'].mode()[0],inplace=True)\n",
    "data['bacteria'].fillna(data['bacteria'].mode()[0],inplace=True)\n",
    "data['anemia'].fillna(data['anemia'].mode()[0],inplace=True)\n",
    "data['sugar'].fillna(data['sugar'].mode()[0],inplace=True)\n",
    "data['diabetes_mellitus'].fillna(data['diabetes_mellitus'].mode()[0],inplace=True)\n",
    "data['pedal_edema'].fillna(data['pedal_edema'].mode()[0],inplace=True)\n",
    "data['specific_gravity'].fillna(data['specific_gravity'].mode()[0],inplace=True)"
   ]
  },
  {
   "cell_type": "code",
   "execution_count": 30,
   "id": "0cba46ce",
   "metadata": {},
   "outputs": [],
   "source": [
    "kidney_map={\"normal\":0,\"abnormal\":1}\n",
    "data[\"red_blood_cells\"] = data[\"red_blood_cells\"].map(kidney_map)\n",
    "\n",
    "pus_cell_map={\"normal\":0,\"abnormal\":1}\n",
    "data[\"pus_cell\"] = data[\"pus_cell\"].map(pus_cell_map)\n",
    "\n",
    "pedal_edema_map={\"no\":0,\"yes\":1}\n",
    "data[\"pedal_edema\"] = data[\"pedal_edema\"].map(pedal_edema_map)\n",
    "\n",
    "anemia_map={\"no\":0,\"yes\":1}\n",
    "data[\"anemia\"] = data[\"anemia\"].map(anemia_map)\n",
    "\n",
    "diabetes_mellitus_map={\"no\":0,\"yes\":1}\n",
    "data[\"diabetes_mellitus\"] = data[\"diabetes_mellitus\"].map(diabetes_mellitus_map)\n",
    "\n",
    "coronary_arterty_disease_map={\"no\":0,\"yes\":1}\n",
    "data[\"coronary_arterty_disease\"] = data[\"coronary_arterty_disease\"].map(coronary_arterty_disease_map)\n",
    "\n",
    "class_map={\"notckd\":0,\"ckd\":1}\n",
    "data[\"class\"] = data[\"class\"].map(class_map)\n",
    "\n",
    "\n"
   ]
  },
  {
   "cell_type": "code",
   "execution_count": 31,
   "id": "ec872066",
   "metadata": {},
   "outputs": [
    {
     "data": {
      "text/html": [
       "<div>\n",
       "<style scoped>\n",
       "    .dataframe tbody tr th:only-of-type {\n",
       "        vertical-align: middle;\n",
       "    }\n",
       "\n",
       "    .dataframe tbody tr th {\n",
       "        vertical-align: top;\n",
       "    }\n",
       "\n",
       "    .dataframe thead th {\n",
       "        text-align: right;\n",
       "    }\n",
       "</style>\n",
       "<table border=\"1\" class=\"dataframe\">\n",
       "  <thead>\n",
       "    <tr style=\"text-align: right;\">\n",
       "      <th></th>\n",
       "      <th>age</th>\n",
       "      <th>blood_preesure</th>\n",
       "      <th>specific_gravity</th>\n",
       "      <th>albumin</th>\n",
       "      <th>sugar</th>\n",
       "      <th>red_blood_cells</th>\n",
       "      <th>pus_cell</th>\n",
       "      <th>pus_cell_clumps</th>\n",
       "      <th>bacteria</th>\n",
       "      <th>blood_glucose_random</th>\n",
       "      <th>...</th>\n",
       "      <th>packed_cell_volume</th>\n",
       "      <th>white_blood_cell_count</th>\n",
       "      <th>red_blood_cell_count</th>\n",
       "      <th>hypertension</th>\n",
       "      <th>diabetes_mellitus</th>\n",
       "      <th>coronary_arterty_disease</th>\n",
       "      <th>appetite</th>\n",
       "      <th>pedal_edema</th>\n",
       "      <th>anemia</th>\n",
       "      <th>class</th>\n",
       "    </tr>\n",
       "  </thead>\n",
       "  <tbody>\n",
       "    <tr>\n",
       "      <th>0</th>\n",
       "      <td>48.0</td>\n",
       "      <td>80.0</td>\n",
       "      <td>1.020</td>\n",
       "      <td>1.0</td>\n",
       "      <td>0.0</td>\n",
       "      <td>0</td>\n",
       "      <td>0</td>\n",
       "      <td>notpresent</td>\n",
       "      <td>notpresent</td>\n",
       "      <td>121.000000</td>\n",
       "      <td>...</td>\n",
       "      <td>44.0</td>\n",
       "      <td>7800.0</td>\n",
       "      <td>5.200000</td>\n",
       "      <td>yes</td>\n",
       "      <td>1</td>\n",
       "      <td>0</td>\n",
       "      <td>good</td>\n",
       "      <td>0</td>\n",
       "      <td>0</td>\n",
       "      <td>1</td>\n",
       "    </tr>\n",
       "    <tr>\n",
       "      <th>1</th>\n",
       "      <td>7.0</td>\n",
       "      <td>50.0</td>\n",
       "      <td>1.020</td>\n",
       "      <td>4.0</td>\n",
       "      <td>0.0</td>\n",
       "      <td>0</td>\n",
       "      <td>0</td>\n",
       "      <td>notpresent</td>\n",
       "      <td>notpresent</td>\n",
       "      <td>148.036517</td>\n",
       "      <td>...</td>\n",
       "      <td>38.0</td>\n",
       "      <td>6000.0</td>\n",
       "      <td>4.707435</td>\n",
       "      <td>no</td>\n",
       "      <td>0</td>\n",
       "      <td>0</td>\n",
       "      <td>good</td>\n",
       "      <td>0</td>\n",
       "      <td>0</td>\n",
       "      <td>1</td>\n",
       "    </tr>\n",
       "    <tr>\n",
       "      <th>2</th>\n",
       "      <td>62.0</td>\n",
       "      <td>80.0</td>\n",
       "      <td>1.010</td>\n",
       "      <td>2.0</td>\n",
       "      <td>3.0</td>\n",
       "      <td>0</td>\n",
       "      <td>0</td>\n",
       "      <td>notpresent</td>\n",
       "      <td>notpresent</td>\n",
       "      <td>423.000000</td>\n",
       "      <td>...</td>\n",
       "      <td>31.0</td>\n",
       "      <td>7500.0</td>\n",
       "      <td>4.707435</td>\n",
       "      <td>no</td>\n",
       "      <td>1</td>\n",
       "      <td>0</td>\n",
       "      <td>poor</td>\n",
       "      <td>0</td>\n",
       "      <td>1</td>\n",
       "      <td>1</td>\n",
       "    </tr>\n",
       "    <tr>\n",
       "      <th>3</th>\n",
       "      <td>48.0</td>\n",
       "      <td>70.0</td>\n",
       "      <td>1.005</td>\n",
       "      <td>4.0</td>\n",
       "      <td>0.0</td>\n",
       "      <td>0</td>\n",
       "      <td>1</td>\n",
       "      <td>present</td>\n",
       "      <td>notpresent</td>\n",
       "      <td>117.000000</td>\n",
       "      <td>...</td>\n",
       "      <td>32.0</td>\n",
       "      <td>6700.0</td>\n",
       "      <td>3.900000</td>\n",
       "      <td>yes</td>\n",
       "      <td>0</td>\n",
       "      <td>0</td>\n",
       "      <td>poor</td>\n",
       "      <td>1</td>\n",
       "      <td>1</td>\n",
       "      <td>1</td>\n",
       "    </tr>\n",
       "    <tr>\n",
       "      <th>4</th>\n",
       "      <td>51.0</td>\n",
       "      <td>80.0</td>\n",
       "      <td>1.010</td>\n",
       "      <td>2.0</td>\n",
       "      <td>0.0</td>\n",
       "      <td>0</td>\n",
       "      <td>0</td>\n",
       "      <td>notpresent</td>\n",
       "      <td>notpresent</td>\n",
       "      <td>106.000000</td>\n",
       "      <td>...</td>\n",
       "      <td>35.0</td>\n",
       "      <td>7300.0</td>\n",
       "      <td>4.600000</td>\n",
       "      <td>no</td>\n",
       "      <td>0</td>\n",
       "      <td>0</td>\n",
       "      <td>good</td>\n",
       "      <td>0</td>\n",
       "      <td>0</td>\n",
       "      <td>1</td>\n",
       "    </tr>\n",
       "  </tbody>\n",
       "</table>\n",
       "<p>5 rows × 25 columns</p>\n",
       "</div>"
      ],
      "text/plain": [
       "    age  blood_preesure  specific_gravity  albumin  sugar  red_blood_cells  \\\n",
       "0  48.0            80.0             1.020      1.0    0.0                0   \n",
       "1   7.0            50.0             1.020      4.0    0.0                0   \n",
       "2  62.0            80.0             1.010      2.0    3.0                0   \n",
       "3  48.0            70.0             1.005      4.0    0.0                0   \n",
       "4  51.0            80.0             1.010      2.0    0.0                0   \n",
       "\n",
       "   pus_cell pus_cell_clumps    bacteria  blood_glucose_random  ...  \\\n",
       "0         0      notpresent  notpresent            121.000000  ...   \n",
       "1         0      notpresent  notpresent            148.036517  ...   \n",
       "2         0      notpresent  notpresent            423.000000  ...   \n",
       "3         1         present  notpresent            117.000000  ...   \n",
       "4         0      notpresent  notpresent            106.000000  ...   \n",
       "\n",
       "   packed_cell_volume  white_blood_cell_count  red_blood_cell_count  \\\n",
       "0                44.0                  7800.0              5.200000   \n",
       "1                38.0                  6000.0              4.707435   \n",
       "2                31.0                  7500.0              4.707435   \n",
       "3                32.0                  6700.0              3.900000   \n",
       "4                35.0                  7300.0              4.600000   \n",
       "\n",
       "   hypertension  diabetes_mellitus  coronary_arterty_disease  appetite  \\\n",
       "0           yes                  1                         0      good   \n",
       "1            no                  0                         0      good   \n",
       "2            no                  1                         0      poor   \n",
       "3           yes                  0                         0      poor   \n",
       "4            no                  0                         0      good   \n",
       "\n",
       "   pedal_edema anemia  class  \n",
       "0            0      0      1  \n",
       "1            0      0      1  \n",
       "2            0      1      1  \n",
       "3            1      1      1  \n",
       "4            0      0      1  \n",
       "\n",
       "[5 rows x 25 columns]"
      ]
     },
     "execution_count": 31,
     "metadata": {},
     "output_type": "execute_result"
    }
   ],
   "source": [
    "data.head()"
   ]
  },
  {
   "cell_type": "code",
   "execution_count": 32,
   "id": "d114e17d",
   "metadata": {},
   "outputs": [
    {
     "data": {
      "text/plain": [
       "age                         0\n",
       "blood_preesure              0\n",
       "specific_gravity            0\n",
       "albumin                     0\n",
       "sugar                       0\n",
       "red_blood_cells             0\n",
       "pus_cell                    0\n",
       "pus_cell_clumps             0\n",
       "bacteria                    0\n",
       "blood_glucose_random        0\n",
       "blood_urea                  0\n",
       "serum_creatinine            0\n",
       "sodium                      0\n",
       "potassium                   0\n",
       "haemoglobin                 0\n",
       "packed_cell_volume          0\n",
       "white_blood_cell_count      0\n",
       "red_blood_cell_count        0\n",
       "hypertension                0\n",
       "diabetes_mellitus           0\n",
       "coronary_arterty_disease    0\n",
       "appetite                    0\n",
       "pedal_edema                 0\n",
       "anemia                      0\n",
       "class                       0\n",
       "dtype: int64"
      ]
     },
     "execution_count": 32,
     "metadata": {},
     "output_type": "execute_result"
    }
   ],
   "source": [
    "data.isnull().sum()"
   ]
  },
  {
   "cell_type": "code",
   "execution_count": 33,
   "id": "4a022b4d",
   "metadata": {},
   "outputs": [
    {
     "name": "stdout",
     "output_type": "stream",
     "text": [
      "LABEL ENCODING OF: red_blood_cell_count\n",
      "LABEL ENCODING OF: albumin\n",
      "LABEL ENCODING OF: haemoglobin\n",
      "LABEL ENCODING OF: sugar\n",
      "LABEL ENCODING OF: sodium\n",
      "LABEL ENCODING OF: age\n",
      "LABEL ENCODING OF: white_blood_cell_count\n",
      "LABEL ENCODING OF: specific_gravity\n",
      "LABEL ENCODING OF: blood_preesure\n",
      "LABEL ENCODING OF: potassium\n",
      "LABEL ENCODING OF: packed_cell_volume\n",
      "LABEL ENCODING OF: blood_glucose_random\n",
      "LABEL ENCODING OF: serum_creatinine\n",
      "LABEL ENCODING OF: blood_urea\n",
      "Counter({57.425721784776904: 19, 46.0: 15, 25.0: 13, 19.0: 11, 40.0: 10, 18.0: 9, 50.0: 9, 15.0: 9, 48.0: 9, 26.0: 8, 27.0: 8, 32.0: 8, 49.0: 8, 36.0: 7, 28.0: 7, 20.0: 7, 17.0: 7, 38.0: 7, 16.0: 7, 30.0: 7, 44.0: 7, 31.0: 6, 45.0: 6, 39.0: 6, 29.0: 6, 24.0: 6, 37.0: 6, 22.0: 6, 23.0: 6, 53.0: 5, 55.0: 5, 33.0: 5, 66.0: 5, 35.0: 5, 42.0: 5, 47.0: 4, 51.0: 4, 34.0: 4, 68.0: 4, 41.0: 4, 60.0: 3, 107.0: 3, 80.0: 3, 96.0: 3, 52.0: 3, 106.0: 3, 125.0: 3, 56.0: 2, 54.0: 2, 72.0: 2, 86.0: 2, 90.0: 2, 87.0: 2, 155.0: 2, 153.0: 2, 77.0: 2, 89.0: 2, 111.0: 2, 73.0: 2, 98.0: 2, 82.0: 2, 132.0: 2, 58.0: 2, 10.0: 2, 162.0: 1, 148.0: 1, 180.0: 1, 163.0: 1, 75.0: 1, 65.0: 1, 103.0: 1, 70.0: 1, 202.0: 1, 114.0: 1, 164.0: 1, 142.0: 1, 391.0: 1, 92.0: 1, 139.0: 1, 85.0: 1, 186.0: 1, 217.0: 1, 88.0: 1, 118.0: 1, 50.1: 1, 71.0: 1, 21.0: 1, 219.0: 1, 166.0: 1, 208.0: 1, 176.0: 1, 145.0: 1, 165.0: 1, 322.0: 1, 235.0: 1, 76.0: 1, 113.0: 1, 1.5: 1, 146.0: 1, 133.0: 1, 137.0: 1, 67.0: 1, 115.0: 1, 223.0: 1, 98.6: 1, 158.0: 1, 94.0: 1, 74.0: 1, 150.0: 1, 61.0: 1, 57.0: 1, 95.0: 1, 191.0: 1, 93.0: 1, 241.0: 1, 64.0: 1, 79.0: 1, 215.0: 1, 309.0: 1})\n",
      "Counter({45: 19, 32: 15, 12: 13, 6: 11, 27: 10, 5: 9, 36: 9, 2: 9, 34: 9, 13: 8, 14: 8, 19: 8, 35: 8, 23: 7, 15: 7, 7: 7, 4: 7, 25: 7, 3: 7, 17: 7, 30: 7, 18: 6, 31: 6, 26: 6, 16: 6, 11: 6, 24: 6, 9: 6, 10: 6, 40: 5, 42: 5, 20: 5, 51: 5, 22: 5, 29: 5, 33: 4, 38: 4, 21: 4, 53: 4, 28: 4, 47: 3, 80: 3, 63: 3, 75: 3, 39: 3, 79: 3, 86: 3, 43: 2, 41: 2, 56: 2, 66: 2, 70: 2, 67: 2, 97: 2, 96: 2, 61: 2, 69: 2, 81: 2, 57: 2, 76: 2, 64: 2, 87: 2, 46: 2, 1: 2, 99: 1, 94: 1, 105: 1, 100: 1, 59: 1, 50: 1, 78: 1, 54: 1, 108: 1, 83: 1, 101: 1, 91: 1, 118: 1, 71: 1, 90: 1, 65: 1, 106: 1, 111: 1, 68: 1, 85: 1, 37: 1, 55: 1, 8: 1, 112: 1, 103: 1, 109: 1, 104: 1, 92: 1, 102: 1, 117: 1, 114: 1, 60: 1, 82: 1, 0: 1, 93: 1, 88: 1, 89: 1, 52: 1, 84: 1, 113: 1, 77: 1, 98: 1, 73: 1, 58: 1, 95: 1, 48: 1, 44: 1, 74: 1, 107: 1, 72: 1, 115: 1, 49: 1, 62: 1, 110: 1, 116: 1})\n",
      "****************************************************************************************************\n"
     ]
    }
   ],
   "source": [
    "for i in catcols:\n",
    "    print(\"LABEL ENCODING OF:\",i)\n",
    "LEi = LabelEncoder()\n",
    "print(c(data[i]))\n",
    "data[i]=LEi.fit_transform(data[i])\n",
    "print(c(data[i]))\n",
    "print(\"*\"*100)"
   ]
  },
  {
   "cell_type": "markdown",
   "id": "ff6f48d2",
   "metadata": {},
   "source": [
    "# Splitting The Dataset Into Dependent And Independent Variable"
   ]
  },
  {
   "cell_type": "code",
   "execution_count": 34,
   "id": "7a07463b",
   "metadata": {},
   "outputs": [
    {
     "data": {
      "text/plain": [
       "age                         0\n",
       "blood_preesure              0\n",
       "specific_gravity            0\n",
       "albumin                     0\n",
       "sugar                       0\n",
       "red_blood_cells             0\n",
       "pus_cell                    0\n",
       "pus_cell_clumps             0\n",
       "bacteria                    0\n",
       "blood_glucose_random        0\n",
       "blood_urea                  0\n",
       "serum_creatinine            0\n",
       "sodium                      0\n",
       "potassium                   0\n",
       "haemoglobin                 0\n",
       "packed_cell_volume          0\n",
       "white_blood_cell_count      0\n",
       "red_blood_cell_count        0\n",
       "hypertension                0\n",
       "diabetes_mellitus           0\n",
       "coronary_arterty_disease    0\n",
       "appetite                    0\n",
       "pedal_edema                 0\n",
       "anemia                      0\n",
       "class                       0\n",
       "dtype: int64"
      ]
     },
     "execution_count": 34,
     "metadata": {},
     "output_type": "execute_result"
    }
   ],
   "source": [
    "data.isnull().sum()"
   ]
  },
  {
   "cell_type": "code",
   "execution_count": 35,
   "id": "78c2adb8",
   "metadata": {},
   "outputs": [
    {
     "name": "stdout",
     "output_type": "stream",
     "text": [
      "(400, 8)\n",
      "(400, 1)\n"
     ]
    }
   ],
   "source": [
    "selcols=[\"red_blood_cells\",\"pus_cell\",\"blood_glucose_random\",\"blood_urea\",\n",
    "         \"pedal_edema\",\"anemia\",\"diabetes_mellitus\",\"coronary_arterty_disease\"]\n",
    "x = pd.DataFrame(data,columns=selcols)\n",
    "y = pd.DataFrame(data,columns=[\"class\"])\n",
    "print(x.shape)\n",
    "print(y.shape)"
   ]
  },
  {
   "cell_type": "markdown",
   "id": "2cd25660",
   "metadata": {},
   "source": [
    "# Split The Dataset Into Train Set And Test Set"
   ]
  },
  {
   "cell_type": "code",
   "execution_count": 36,
   "id": "b06a6a04",
   "metadata": {},
   "outputs": [
    {
     "name": "stdout",
     "output_type": "stream",
     "text": [
      "(320, 8)\n",
      "(80, 8)\n",
      "(320, 1)\n",
      "(80, 1)\n"
     ]
    }
   ],
   "source": [
    "x_train, x_test, y_train, y_test = train_test_split(x,y,\n",
    "                                                    test_size=0.2,random_state=42)\n",
    "print(x_train.shape)\n",
    "print(x_test.shape)\n",
    "print(y_train.shape)\n",
    "print(y_test.shape)"
   ]
  },
  {
   "cell_type": "code",
   "execution_count": 37,
   "id": "dfbd49dd",
   "metadata": {},
   "outputs": [
    {
     "name": "stdout",
     "output_type": "stream",
     "text": [
      "     red_blood_cells  pus_cell  blood_glucose_random  blood_urea  pedal_edema  \\\n",
      "3                  0         1                 117.0          43            1   \n",
      "18                 0         0                 263.0          14            0   \n",
      "202                0         0                 114.0          58            0   \n",
      "250                0         0                 140.0           1            0   \n",
      "274                0         0                 107.0          10            0   \n",
      "..               ...       ...                   ...         ...          ...   \n",
      "71                 0         0                 163.0          71            0   \n",
      "106                0         0                  89.0          85            1   \n",
      "270                0         0                 111.0          21            0   \n",
      "348                0         0                  99.0           6            0   \n",
      "102                0         0                  92.0          19            0   \n",
      "\n",
      "     anemia  diabetes_mellitus  coronary_arterty_disease  \n",
      "3         1                  0                         0  \n",
      "18        0                  1                         1  \n",
      "202       1                  1                         0  \n",
      "250       0                  0                         0  \n",
      "274       0                  0                         0  \n",
      "..      ...                ...                       ...  \n",
      "71        0                  1                         0  \n",
      "106       1                  1                         0  \n",
      "270       0                  0                         0  \n",
      "348       0                  0                         0  \n",
      "102       0                  0                         0  \n",
      "\n",
      "[320 rows x 8 columns]\n",
      "     class\n",
      "3        1\n",
      "18       1\n",
      "202      1\n",
      "250      0\n",
      "274      0\n",
      "..     ...\n",
      "71       1\n",
      "106      1\n",
      "270      0\n",
      "348      0\n",
      "102      1\n",
      "\n",
      "[320 rows x 1 columns]\n"
     ]
    }
   ],
   "source": [
    "print(x_train)\n",
    "print(y_train)"
   ]
  },
  {
   "cell_type": "markdown",
   "id": "b7815ae4",
   "metadata": {},
   "source": [
    "# Model Building"
   ]
  },
  {
   "cell_type": "markdown",
   "id": "c1577311",
   "metadata": {},
   "source": [
    "### As the prediction for our model is classification type,  we apply a logistic regression algorithm on our dataset."
   ]
  },
  {
   "cell_type": "code",
   "execution_count": 38,
   "id": "eab9bee1",
   "metadata": {},
   "outputs": [
    {
     "name": "stderr",
     "output_type": "stream",
     "text": [
      "C:\\Users\\Dell\\AppData\\Local\\Programs\\Python\\Python39-32\\lib\\site-packages\\sklearn\\utils\\validation.py:1111: DataConversionWarning: A column-vector y was passed when a 1d array was expected. Please change the shape of y to (n_samples, ), for example using ravel().\n",
      "  y = column_or_1d(y, warn=True)\n"
     ]
    },
    {
     "data": {
      "text/html": [
       "<style>#sk-container-id-1 {color: black;background-color: white;}#sk-container-id-1 pre{padding: 0;}#sk-container-id-1 div.sk-toggleable {background-color: white;}#sk-container-id-1 label.sk-toggleable__label {cursor: pointer;display: block;width: 100%;margin-bottom: 0;padding: 0.3em;box-sizing: border-box;text-align: center;}#sk-container-id-1 label.sk-toggleable__label-arrow:before {content: \"▸\";float: left;margin-right: 0.25em;color: #696969;}#sk-container-id-1 label.sk-toggleable__label-arrow:hover:before {color: black;}#sk-container-id-1 div.sk-estimator:hover label.sk-toggleable__label-arrow:before {color: black;}#sk-container-id-1 div.sk-toggleable__content {max-height: 0;max-width: 0;overflow: hidden;text-align: left;background-color: #f0f8ff;}#sk-container-id-1 div.sk-toggleable__content pre {margin: 0.2em;color: black;border-radius: 0.25em;background-color: #f0f8ff;}#sk-container-id-1 input.sk-toggleable__control:checked~div.sk-toggleable__content {max-height: 200px;max-width: 100%;overflow: auto;}#sk-container-id-1 input.sk-toggleable__control:checked~label.sk-toggleable__label-arrow:before {content: \"▾\";}#sk-container-id-1 div.sk-estimator input.sk-toggleable__control:checked~label.sk-toggleable__label {background-color: #d4ebff;}#sk-container-id-1 div.sk-label input.sk-toggleable__control:checked~label.sk-toggleable__label {background-color: #d4ebff;}#sk-container-id-1 input.sk-hidden--visually {border: 0;clip: rect(1px 1px 1px 1px);clip: rect(1px, 1px, 1px, 1px);height: 1px;margin: -1px;overflow: hidden;padding: 0;position: absolute;width: 1px;}#sk-container-id-1 div.sk-estimator {font-family: monospace;background-color: #f0f8ff;border: 1px dotted black;border-radius: 0.25em;box-sizing: border-box;margin-bottom: 0.5em;}#sk-container-id-1 div.sk-estimator:hover {background-color: #d4ebff;}#sk-container-id-1 div.sk-parallel-item::after {content: \"\";width: 100%;border-bottom: 1px solid gray;flex-grow: 1;}#sk-container-id-1 div.sk-label:hover label.sk-toggleable__label {background-color: #d4ebff;}#sk-container-id-1 div.sk-serial::before {content: \"\";position: absolute;border-left: 1px solid gray;box-sizing: border-box;top: 0;bottom: 0;left: 50%;z-index: 0;}#sk-container-id-1 div.sk-serial {display: flex;flex-direction: column;align-items: center;background-color: white;padding-right: 0.2em;padding-left: 0.2em;position: relative;}#sk-container-id-1 div.sk-item {position: relative;z-index: 1;}#sk-container-id-1 div.sk-parallel {display: flex;align-items: stretch;justify-content: center;background-color: white;position: relative;}#sk-container-id-1 div.sk-item::before, #sk-container-id-1 div.sk-parallel-item::before {content: \"\";position: absolute;border-left: 1px solid gray;box-sizing: border-box;top: 0;bottom: 0;left: 50%;z-index: -1;}#sk-container-id-1 div.sk-parallel-item {display: flex;flex-direction: column;z-index: 1;position: relative;background-color: white;}#sk-container-id-1 div.sk-parallel-item:first-child::after {align-self: flex-end;width: 50%;}#sk-container-id-1 div.sk-parallel-item:last-child::after {align-self: flex-start;width: 50%;}#sk-container-id-1 div.sk-parallel-item:only-child::after {width: 0;}#sk-container-id-1 div.sk-dashed-wrapped {border: 1px dashed gray;margin: 0 0.4em 0.5em 0.4em;box-sizing: border-box;padding-bottom: 0.4em;background-color: white;}#sk-container-id-1 div.sk-label label {font-family: monospace;font-weight: bold;display: inline-block;line-height: 1.2em;}#sk-container-id-1 div.sk-label-container {text-align: center;}#sk-container-id-1 div.sk-container {/* jupyter's `normalize.less` sets `[hidden] { display: none; }` but bootstrap.min.css set `[hidden] { display: none !important; }` so we also need the `!important` here to be able to override the default hidden behavior on the sphinx rendered scikit-learn.org. See: https://github.com/scikit-learn/scikit-learn/issues/21755 */display: inline-block !important;position: relative;}#sk-container-id-1 div.sk-text-repr-fallback {display: none;}</style><div id=\"sk-container-id-1\" class=\"sk-top-container\"><div class=\"sk-text-repr-fallback\"><pre>LogisticRegression()</pre><b>In a Jupyter environment, please rerun this cell to show the HTML representation or trust the notebook. <br />On GitHub, the HTML representation is unable to render, please try loading this page with nbviewer.org.</b></div><div class=\"sk-container\" hidden><div class=\"sk-item\"><div class=\"sk-estimator sk-toggleable\"><input class=\"sk-toggleable__control sk-hidden--visually\" id=\"sk-estimator-id-1\" type=\"checkbox\" checked><label for=\"sk-estimator-id-1\" class=\"sk-toggleable__label sk-toggleable__label-arrow\">LogisticRegression</label><div class=\"sk-toggleable__content\"><pre>LogisticRegression()</pre></div></div></div></div></div>"
      ],
      "text/plain": [
       "LogisticRegression()"
      ]
     },
     "execution_count": 38,
     "metadata": {},
     "output_type": "execute_result"
    }
   ],
   "source": [
    "lgr = LogisticRegression()\n",
    "lgr.fit(x_train,y_train)"
   ]
  },
  {
   "cell_type": "markdown",
   "id": "3622b68b",
   "metadata": {},
   "source": [
    " \n",
    "# Test The Mode"
   ]
  },
  {
   "cell_type": "code",
   "execution_count": 39,
   "id": "b31c8eaf",
   "metadata": {},
   "outputs": [],
   "source": [
    "y_pred = lgr.predict(x_test)"
   ]
  },
  {
   "cell_type": "code",
   "execution_count": 41,
   "id": "1c6ef0fc",
   "metadata": {},
   "outputs": [
    {
     "name": "stdout",
     "output_type": "stream",
     "text": [
      "[1]\n"
     ]
    },
    {
     "name": "stderr",
     "output_type": "stream",
     "text": [
      "C:\\Users\\Dell\\AppData\\Local\\Programs\\Python\\Python39-32\\lib\\site-packages\\sklearn\\base.py:450: UserWarning: X does not have valid feature names, but LogisticRegression was fitted with feature names\n",
      "  warnings.warn(\n"
     ]
    },
    {
     "data": {
      "text/plain": [
       "Counter({1: 52, 0: 28})"
      ]
     },
     "execution_count": 41,
     "metadata": {},
     "output_type": "execute_result"
    }
   ],
   "source": [
    "y_pred1 = lgr.predict([[129,99,1,0,0,1,0,129]])\n",
    "print(y_pred1)\n",
    "c(y_pred)"
   ]
  },
  {
   "cell_type": "markdown",
   "id": "936f1dcb",
   "metadata": {},
   "source": [
    "# Model Evaluation"
   ]
  },
  {
   "cell_type": "code",
   "execution_count": 42,
   "id": "92f3c463",
   "metadata": {},
   "outputs": [
    {
     "data": {
      "text/plain": [
       "0.975"
      ]
     },
     "execution_count": 42,
     "metadata": {},
     "output_type": "execute_result"
    }
   ],
   "source": [
    "accuracy_score(y_test,y_pred)"
   ]
  },
  {
   "cell_type": "code",
   "execution_count": 44,
   "id": "09e06c7a",
   "metadata": {},
   "outputs": [
    {
     "data": {
      "text/plain": [
       "array([[27,  1],\n",
       "       [ 1, 51]], dtype=int64)"
      ]
     },
     "execution_count": 44,
     "metadata": {},
     "output_type": "execute_result"
    }
   ],
   "source": [
    "con_mat = confusion_matrix(y_test,y_pred)\n",
    "con_mat"
   ]
  },
  {
   "cell_type": "code",
   "execution_count": 48,
   "id": "49b5df34",
   "metadata": {},
   "outputs": [],
   "source": [
    "pickle.dump(lgr,open('CKD.pk1','wb'))"
   ]
  },
  {
   "cell_type": "code",
   "execution_count": null,
   "id": "4bf2e987",
   "metadata": {},
   "outputs": [],
   "source": []
  }
 ],
 "metadata": {
  "kernelspec": {
   "display_name": "Python 3 (ipykernel)",
   "language": "python",
   "name": "python3"
  },
  "language_info": {
   "codemirror_mode": {
    "name": "ipython",
    "version": 3
   },
   "file_extension": ".py",
   "mimetype": "text/x-python",
   "name": "python",
   "nbconvert_exporter": "python",
   "pygments_lexer": "ipython3",
   "version": "3.9.8"
  }
 },
 "nbformat": 4,
 "nbformat_minor": 5
}
